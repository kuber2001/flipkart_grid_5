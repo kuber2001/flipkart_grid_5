{
 "cells": [
  {
   "cell_type": "code",
   "execution_count": 2,
   "id": "0d51f15c",
   "metadata": {},
   "outputs": [],
   "source": [
    "import pandas as pd\n"
   ]
  },
  {
   "cell_type": "code",
   "execution_count": 5,
   "id": "d09a785e",
   "metadata": {},
   "outputs": [],
   "source": [
    "# creating a sample users data\n",
    "users_data = {\n",
    "    \"user_id\": [1, 2, 3, 4, 5],\n",
    "    \"age\": [25, 30, 22, 28, 40],\n",
    "    \"gender\": [\"M\", \"F\", \"M\", \"F\", \"M\"],\n",
    "    \"location\": [\"CityA\", \"CityB\", \"CityA\", \"CityC\", \"CityB\"]\n",
    "}\n",
    "# saving it to csv file \n",
    "users_df = pd.DataFrame(users_data)\n",
    "users_df.to_csv('users_data.csv')"
   ]
  },
  {
   "cell_type": "code",
   "execution_count": 7,
   "id": "83a92549",
   "metadata": {},
   "outputs": [],
   "source": [
    "items_data = {\n",
    "    \"item_id\": [101, 102, 103, 104, 105],\n",
    "    \"category\": [\"Electronics\", \"Clothing\", \"Books\", \"Electronics\", \"Beauty\"],\n",
    "    \"brand\": [\"BrandX\", \"BrandY\", \"BrandZ\", \"BrandX\", \"BrandA\"]\n",
    "}\n",
    "items_df = pd.DataFrame(items_data)\n",
    "items_df.to_csv('items_df.csv')"
   ]
  },
  {
   "cell_type": "code",
   "execution_count": 8,
   "id": "b66250bd",
   "metadata": {},
   "outputs": [],
   "source": [
    "interactions_data = {\n",
    "    \"user_id\": [1, 2, 3, 1, 4, 5],\n",
    "    \"item_id\": [101, 103, 102, 104, 105, 102],\n",
    "    \"rating\": [5, 4, 5, 3, 4, 5],\n",
    "    \"purchase\": [True, False, True, False, True, True],\n",
    "    \"review\": [\"Great product!\", \"Nice clothing.\", \"Loved the book.\", \"\", \"Highly recommended.\", \"Excellent.\"]\n",
    "}\n",
    "interactions_df = pd.DataFrame(interactions_data)\n",
    "interactions_df.to_csv(\"interactions_df.csv\")"
   ]
  },
  {
   "cell_type": "code",
   "execution_count": null,
   "id": "4f8f5485",
   "metadata": {},
   "outputs": [],
   "source": []
  }
 ],
 "metadata": {
  "kernelspec": {
   "display_name": "Python 3 (ipykernel)",
   "language": "python",
   "name": "python3"
  },
  "language_info": {
   "codemirror_mode": {
    "name": "ipython",
    "version": 3
   },
   "file_extension": ".py",
   "mimetype": "text/x-python",
   "name": "python",
   "nbconvert_exporter": "python",
   "pygments_lexer": "ipython3",
   "version": "3.10.9"
  }
 },
 "nbformat": 4,
 "nbformat_minor": 5
}
