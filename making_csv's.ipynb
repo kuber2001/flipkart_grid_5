{
 "cells": [
  {
   "cell_type": "code",
   "execution_count": 2,
   "id": "2279fa6d",
   "metadata": {},
   "outputs": [],
   "source": [
    "import pandas as pd\n"
   ]
  },
  {
   "cell_type": "code",
   "execution_count": 5,
   "id": "d2349461",
   "metadata": {},
   "outputs": [],
   "source": [
    "# creating a sample users data\n",
    "users_data = {\n",
    "    \"user_id\": [1, 2, 3, 4, 5],\n",
    "    \"age\": [25, 30, 22, 28, 40],\n",
    "    \"gender\": [\"M\", \"F\", \"M\", \"F\", \"M\"],\n",
    "    \"location\": [\"CityA\", \"CityB\", \"CityA\", \"CityC\", \"CityB\"]\n",
    "}\n",
    "# saving it to csv file \n",
    "users_df = pd.DataFrame(users_data)\n",
    "users_df.to_csv('users_data.csv')"
   ]
  },
  {
   "cell_type": "code",
   "execution_count": 19,
   "id": "d605c00c",
   "metadata": {},
   "outputs": [],
   "source": [
    "items_data = {\n",
    "    \"item_id\": [101, 102, 103, 104, 105],\n",
    "    \"item_name\": [\"Smartphone\", \"T-Shirt\", \"Book\", \"Laptop\", \"Lipstick\"],\n",
    "    \"category\": [\"Electronics\", \"Clothing\", \"Books\", \"Electronics\", \"Beauty\"],\n",
    "    \"brand\": [\"BrandX\", \"BrandY\", \"BrandZ\", \"BrandX\", \"BrandA\"],\n",
    "    \"features\": [\"5G, 128GB, Dual Camera\", \"Cotton, Round Neck\", \"Bestseller, Paperback\", \"8GB RAM, SSD\", \"Long-lasting, Matte Finish\"],\n",
    "    \"specifications\": [\"Model: XYZ123\", \"Size: M\", \"Author: ABC\", \"Processor: Intel i5\", \"Color: Red\"],\n",
    "    \"tags\": [\"Smartphone, 5G, Camera\", \"Clothing, T-Shirt, Casual\", \"Books, Fiction, Bestseller\", \"Laptop, Performance, Work\", \"Beauty, Lipstick, Makeup\"],\n",
    "    \"ratings\": [4.5, 3.8, 4.0, 4.7, 4.2]\n",
    "}\n",
    "items_df = pd.DataFrame(items_data)\n",
    "items_df.to_csv('items_data.csv')"
   ]
  },
  {
   "cell_type": "code",
   "execution_count": 9,
   "id": "3751aeb5",
   "metadata": {},
   "outputs": [],
   "source": [
    "interactions_data = {\n",
    "    \"user_id\": [1, 2, 3, 1, 4, 5],\n",
    "    \"item_id\": [101, 103, 102, 104, 105, 102],\n",
    "    \"rating\": [5, 4, 5, 3, 4, 5],\n",
    "    \"purchase\": [True, False, True, False, True, True],\n",
    "    \"review\": [\"Great product!\", \"Nice clothing.\", \"Loved the book.\", \"\", \"Highly recommended.\", \"Excellent.\"]\n",
    "}\n",
    "interactions_df = pd.DataFrame(interactions_data)\n",
    "interactions_df.to_csv(\"interactions_df.csv\")"
   ]
  },
  {
   "cell_type": "code",
   "execution_count": 12,
   "id": "a0e8bdce",
   "metadata": {},
   "outputs": [],
   "source": [
    "user_data = {\n",
    "    \"user_id\": [1, 2, 3, 4, 5],\n",
    "    \"interests\": [\"Tech\", \"Fashion\", \"Books\", \"Tech\", \"Beauty\"]\n",
    "}\n",
    "user_data_df = pd.DataFrame(user_data)\n",
    "user_data_df.to_csv('user_data.csv')"
   ]
  },
  {
   "cell_type": "code",
   "execution_count": 14,
   "id": "fd88331c",
   "metadata": {},
   "outputs": [],
   "source": [
    "purchase_history = {\n",
    "    \"user_id\": [1, 3, 5],\n",
    "    \"purchased_items\": [[101, 104], [102, 103], [105]]\n",
    "}\n",
    "purchase_data = pd.DataFrame(purchase_history)\n",
    "purchase_data.to_csv('purchase_data.csv')"
   ]
  },
  {
   "cell_type": "code",
   "execution_count": 15,
   "id": "640e5988",
   "metadata": {},
   "outputs": [],
   "source": [
    "browsing_history = {\n",
    "    \"user_id\": [1, 2, 3, 1, 4],\n",
    "    \"browsed_items\": [[101, 103], [102], [103, 104], [105], [101, 102]]\n",
    "}\n",
    "browsing_data = pd.DataFrame(browsing_history)\n",
    "browsing_data.to_csv('browsing_data.csv')"
   ]
  },
  {
   "cell_type": "code",
   "execution_count": 16,
   "id": "d171228d",
   "metadata": {},
   "outputs": [],
   "source": [
    "wishlist = {\n",
    "    \"user_id\": [1, 2, 3],\n",
    "    \"wishlist_items\": [[103], [101, 105], [104]]\n",
    "}\n",
    "wishlist_data = pd.DataFrame(wishlist)\n",
    "wishlist_data.to_csv('wishlist_data.csv')"
   ]
  },
  {
   "cell_type": "code",
   "execution_count": 18,
   "id": "56870d1f",
   "metadata": {},
   "outputs": [],
   "source": [
    "session_data = {\n",
    "    \"user_id\": [1, 2, 3, 4, 5],\n",
    "    \"session_id\": [101, 102, 103, 104, 105],\n",
    "    \"session_duration\": [1800, 2400, 1500, 3000, 1800],\n",
    "    \"average_item_price\": [50.0, 30.0, 20.0, 80.0, 40.0]\n",
    "}\n",
    "session_data = pd.DataFrame(session_data)\n",
    "session_data.to_csv('session_data.csv')"
   ]
  },
  {
   "cell_type": "code",
   "execution_count": 20,
   "id": "f37ce4fd",
   "metadata": {},
   "outputs": [],
   "source": [
    "click_through_data = {\n",
    "    \"user_id\": [1, 2, 3, 1, 4, 5],\n",
    "    \"item_id\": [101, 103, 102, 105, 105, 101],\n",
    "    \"conversion\": [True, False, True, True, False, True]\n",
    "}\n",
    "click_through_data_df = pd.DataFrame(click_through_data)\n",
    "click_through_data_df.to_csv('click_through_data.csv')"
   ]
  },
  {
   "cell_type": "code",
   "execution_count": 21,
   "id": "ab775a3f",
   "metadata": {},
   "outputs": [],
   "source": [
    "ratings_reviews_data = {\n",
    "    \"item_id\": [101, 102, 103, 104, 105],\n",
    "    \"average_rating\": [4.8, 3.5, 4.2, 4.6, 3.9],\n",
    "    \"num_reviews\": [100, 50, 70, 120, 80]\n",
    "}\n",
    "ratings_reviews_data_df = pd.DataFrame(ratings_reviews_data)\n",
    "ratings_reviews_data_df.to_csv('ratings_reviews_data.csv')"
   ]
  },
  {
   "cell_type": "code",
   "execution_count": null,
   "id": "425db374",
   "metadata": {},
   "outputs": [],
   "source": []
  }
 ],
 "metadata": {
  "kernelspec": {
   "display_name": "Python 3 (ipykernel)",
   "language": "python",
   "name": "python3"
  },
  "language_info": {
   "codemirror_mode": {
    "name": "ipython",
    "version": 3
   },
   "file_extension": ".py",
   "mimetype": "text/x-python",
   "name": "python",
   "nbconvert_exporter": "python",
   "pygments_lexer": "ipython3",
   "version": "3.10.9"
  }
 },
 "nbformat": 4,
 "nbformat_minor": 5
}
